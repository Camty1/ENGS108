{
 "cells": [
  {
   "cell_type": "markdown",
   "metadata": {},
   "source": [
    "## ENGS 108 Assignment 1\n",
    "### Cameron Wolfe 9/15/23"
   ]
  },
  {
   "cell_type": "code",
   "execution_count": 7,
   "metadata": {},
   "outputs": [],
   "source": [
    "import pandas as pd\n",
    "data = pd.read_csv('Flows.csv')"
   ]
  },
  {
   "cell_type": "markdown",
   "metadata": {},
   "source": [
    "### Questions 1 and 2"
   ]
  },
  {
   "cell_type": "code",
   "execution_count": 8,
   "metadata": {},
   "outputs": [
    {
     "name": "stdout",
     "output_type": "stream",
     "text": [
      "Number of records: 2704839\n",
      "\n",
      "Number of fields: 50\n",
      "\n"
     ]
    }
   ],
   "source": [
    "# Use shape to get number of records and number of fields\n",
    "shape = data.shape\n",
    "rows = shape[0]\n",
    "columns = shape[1]\n",
    "\n",
    "print(\"\".join(['Number of records: ', str(rows)]))\n",
    "print(\"\".join(['\\nNumber of fields: ', str(columns), '\\n']))"
   ]
  },
  {
   "cell_type": "markdown",
   "metadata": {},
   "source": [
    "### Questions 3 and 4"
   ]
  },
  {
   "cell_type": "code",
   "execution_count": 9,
   "metadata": {},
   "outputs": [
    {
     "name": "stdout",
     "output_type": "stream",
     "text": [
      "Source IPs with most records\n",
      "192.168.128.3 :  151298\n",
      "192.168.122.52 :  47415\n",
      "192.168.125.17 :  42699\n",
      "192.168.121.62 :  35058\n",
      "192.168.127.13 :  34029\n",
      "192.168.128.87 :  30939\n",
      "192.168.128.15 :  22221\n",
      "192.168.125.70 :  21991\n",
      "192.168.128.66 :  21113\n",
      "192.168.125.216 :  20426\n",
      "\n",
      "Destination IPs with most records\n",
      "172.16.255.200 :  741899\n",
      "172.16.255.183 :  147765\n",
      "172.16.141.250 :  135485\n",
      "10.200.7.6 :  24825\n",
      "8.8.8.8 :  21758\n",
      "10.200.7.7 :  19841\n",
      "10.200.7.8 :  17685\n",
      "157.240.14.32 :  15324\n",
      "10.200.7.5 :  15090\n",
      "31.13.67.32 :  14669\n"
     ]
    }
   ],
   "source": [
    "# Extract source and destination IP addresses from dataframe\n",
    "src_ip_addresses = data['src_ip']\n",
    "dst_ip_addresses = data['dst_ip']\n",
    "\n",
    "# Create dictionaries to store number of times an IP address has occured\n",
    "src_dict = {}\n",
    "dst_dict = {}\n",
    "\n",
    "# Go through each row\n",
    "for i in range(rows):\n",
    "    # Grab IP in that row\n",
    "    src_ip = src_ip_addresses[i]\n",
    "    dst_ip = dst_ip_addresses[i]\n",
    "\n",
    "    # If IP is in dictionary, increment count by 1, otherwise this is the first time it has been seen, so set the count to 1\n",
    "    if src_ip in src_dict:\n",
    "        src_dict[src_ip] += 1\n",
    "    else:\n",
    "        src_dict[src_ip] = 1\n",
    "\n",
    "    # Same as above but with destination IPs as opposed to source IPs\n",
    "    if dst_ip in dst_dict:\n",
    "        dst_dict[dst_ip] += 1\n",
    "    else:\n",
    "        dst_dict[dst_ip] = 1\n",
    "\n",
    "# Sort the keys in the dictionary in reverse order by the number of times it appears \n",
    "sorted_src_keys = sorted(src_dict, key=lambda x: src_dict[x], reverse=True)\n",
    "sorted_dst_keys = sorted(dst_dict, key=lambda x: dst_dict[x], reverse=True)\n",
    "\n",
    "# Print first 10 IPs for each\n",
    "print('Source IPs with most records')\n",
    "for key in sorted_src_keys[:10]:\n",
    "    print(key, ': ', src_dict[key])\n",
    "print('\\nDestination IPs with most records')\n",
    "for key in sorted_dst_keys[:10]:\n",
    "    print(key, ': ', dst_dict[key])"
   ]
  },
  {
   "cell_type": "markdown",
   "metadata": {},
   "source": [
    "### Questions 5 and 6"
   ]
  },
  {
   "cell_type": "code",
   "execution_count": 10,
   "metadata": {},
   "outputs": [
    {
     "name": "stdout",
     "output_type": "stream",
     "text": [
      "\n",
      "Longest duration flow:\n",
      "192.168.125.36 to 131.100.1.170: 1800.20165610313 seconds\n",
      "\n",
      "Largest flow:\n",
      "192.168.125.44 to 173.194.209.109: 2981111695 bytes\n"
     ]
    }
   ],
   "source": [
    "# Extract flow duration and size from dataframe\n",
    "flow_durations = data['flowDuration']\n",
    "flow_sizes = data['octetTotalCount']\n",
    "\n",
    "# Find max flow duration as well as IPs associated with that flow\n",
    "max_duration = flow_durations.max()\n",
    "max_duration_index = flow_durations.idxmax()\n",
    "max_duration_src = src_ip_addresses[max_duration_index]\n",
    "max_duration_dst = dst_ip_addresses[max_duration_index]\n",
    "\n",
    "# Find max flow size as well as IPs associated with that flow\n",
    "max_size = flow_sizes.max()\n",
    "max_size_index = flow_sizes.idxmax()\n",
    "max_size_src = src_ip_addresses[max_size_index]\n",
    "max_size_dst = dst_ip_addresses[max_size_index]\n",
    "\n",
    "print(\"\".join(['\\nLongest duration flow:\\n', max_duration_src, ' to ', max_duration_dst, ': ', str(max_duration), ' seconds\\n'])) \n",
    "print(\"\".join(['Largest flow:\\n', max_size_src, ' to ', max_size_dst, ': ', str(max_size), ' bytes'])) "
   ]
  }
 ],
 "metadata": {
  "kernelspec": {
   "display_name": "Python 3",
   "language": "python",
   "name": "python3"
  },
  "language_info": {
   "codemirror_mode": {
    "name": "ipython",
    "version": 3
   },
   "file_extension": ".py",
   "mimetype": "text/x-python",
   "name": "python",
   "nbconvert_exporter": "python",
   "pygments_lexer": "ipython3",
   "version": "3.8.10"
  },
  "orig_nbformat": 4
 },
 "nbformat": 4,
 "nbformat_minor": 2
}
